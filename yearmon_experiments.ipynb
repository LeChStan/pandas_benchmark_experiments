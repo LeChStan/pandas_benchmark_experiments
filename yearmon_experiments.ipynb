{
 "cells": [
  {
   "cell_type": "code",
   "execution_count": 48,
   "id": "3478b1dc-7287-43ea-8453-0af9a027739c",
   "metadata": {},
   "outputs": [],
   "source": [
    "import pandas as pd\n",
    "import numpy as np\n",
    "import timeit\n",
    "import time\n",
    "import matplotlib.pyplot as plt"
   ]
  },
  {
   "cell_type": "markdown",
   "id": "ce363dd7-f96f-4959-a760-c571e50b8824",
   "metadata": {},
   "source": [
    "# Year column operations"
   ]
  },
  {
   "cell_type": "code",
   "execution_count": 9,
   "id": "b72b73fc-ee23-4c45-b0b3-65d0a3667ae0",
   "metadata": {},
   "outputs": [],
   "source": [
    "n = 10 * 10**6\n",
    "choices = [str(i) for i in range(2021, 2025)]\n"
   ]
  },
  {
   "cell_type": "code",
   "execution_count": 61,
   "id": "a1bd7840-9aa8-46e3-9b6c-ed305bfc8c5b",
   "metadata": {},
   "outputs": [
    {
     "name": "stdout",
     "output_type": "stream",
     "text": [
      "19.073612213134766 MB\n"
     ]
    }
   ],
   "source": [
    "col2 = col1.astype(np.int16)\n",
    "print(f\"{col2.memory_usage(deep=True)/1024**2} MB\")\n"
   ]
  },
  {
   "cell_type": "code",
   "execution_count": 62,
   "id": "2950f221-0455-410b-b402-a972d180ce2b",
   "metadata": {},
   "outputs": [
    {
     "name": "stdout",
     "output_type": "stream",
     "text": [
      "9.53726577758789 MB\n"
     ]
    }
   ],
   "source": [
    "col3 = col1.astype(\"category\")\n",
    "print(f\"{col3.memory_usage(deep=True)/1024**2} MB\")"
   ]
  },
  {
   "cell_type": "markdown",
   "id": "a643df7b-526b-4b96-8b89-cc21f8630fb9",
   "metadata": {},
   "source": [
    "# Yearmon column operations"
   ]
  },
  {
   "cell_type": "code",
   "execution_count": 10,
   "id": "ada3419a-e998-4147-8819-e16d90aa8231",
   "metadata": {},
   "outputs": [],
   "source": [
    "choices = [str(i) for i in range(2021, 2025)]\n",
    "choices = [i + str(j).zfill(2) for i in choices for j in range(1,13)]\n",
    "\n"
   ]
  },
  {
   "cell_type": "code",
   "execution_count": 11,
   "id": "6c9f7cb3-0c03-410a-8e3e-41675219601e",
   "metadata": {},
   "outputs": [],
   "source": [
    "def create_frame(n=10**3, seed=1):\n",
    "    rng = np.random.default_rng(seed=seed)\n",
    "    col1 = pd.Series(rng.choice(choices, n)).astype(str)\n",
    "    df = pd.DataFrame(col1, columns=[\"yearmon_str\"])\n",
    "    df[\"yearmon_int64\"] = df.yearmon_str.astype(np.int64)\n",
    "    df[\"yearmon_int32\"] = df.yearmon_str.astype(np.int32)\n",
    "    df[\"yearmon_cat\"] = df.yearmon_str.astype(\"category\")\n",
    "    return df"
   ]
  },
  {
   "cell_type": "code",
   "execution_count": 49,
   "id": "b3a20393-0705-4f4a-a8b2-2c53f0d7cea1",
   "metadata": {},
   "outputs": [
    {
     "data": {
      "text/html": [
       "<div>\n",
       "<style scoped>\n",
       "    .dataframe tbody tr th:only-of-type {\n",
       "        vertical-align: middle;\n",
       "    }\n",
       "\n",
       "    .dataframe tbody tr th {\n",
       "        vertical-align: top;\n",
       "    }\n",
       "\n",
       "    .dataframe thead th {\n",
       "        text-align: right;\n",
       "    }\n",
       "</style>\n",
       "<table border=\"1\" class=\"dataframe\">\n",
       "  <thead>\n",
       "    <tr style=\"text-align: right;\">\n",
       "      <th></th>\n",
       "      <th>row_number</th>\n",
       "      <th>data_type</th>\n",
       "      <th>run_time</th>\n",
       "      <th>best_run_time</th>\n",
       "      <th>times_best</th>\n",
       "    </tr>\n",
       "  </thead>\n",
       "  <tbody>\n",
       "    <tr>\n",
       "      <th>0</th>\n",
       "      <td>10</td>\n",
       "      <td>cat</td>\n",
       "      <td>0.000565</td>\n",
       "      <td>0.000495</td>\n",
       "      <td>1.140987</td>\n",
       "    </tr>\n",
       "    <tr>\n",
       "      <th>1</th>\n",
       "      <td>10</td>\n",
       "      <td>int32</td>\n",
       "      <td>0.000602</td>\n",
       "      <td>0.000495</td>\n",
       "      <td>1.215445</td>\n",
       "    </tr>\n",
       "    <tr>\n",
       "      <th>2</th>\n",
       "      <td>10</td>\n",
       "      <td>int64</td>\n",
       "      <td>0.000624</td>\n",
       "      <td>0.000495</td>\n",
       "      <td>1.260461</td>\n",
       "    </tr>\n",
       "    <tr>\n",
       "      <th>3</th>\n",
       "      <td>10</td>\n",
       "      <td>string</td>\n",
       "      <td>0.000495</td>\n",
       "      <td>0.000495</td>\n",
       "      <td>1.000000</td>\n",
       "    </tr>\n",
       "    <tr>\n",
       "      <th>4</th>\n",
       "      <td>100</td>\n",
       "      <td>cat</td>\n",
       "      <td>0.000542</td>\n",
       "      <td>0.000503</td>\n",
       "      <td>1.076028</td>\n",
       "    </tr>\n",
       "  </tbody>\n",
       "</table>\n",
       "</div>"
      ],
      "text/plain": [
       "   row_number data_type  run_time  best_run_time  times_best\n",
       "0          10       cat  0.000565       0.000495    1.140987\n",
       "1          10     int32  0.000602       0.000495    1.215445\n",
       "2          10     int64  0.000624       0.000495    1.260461\n",
       "3          10    string  0.000495       0.000495    1.000000\n",
       "4         100       cat  0.000542       0.000503    1.076028"
      ]
     },
     "execution_count": 49,
     "metadata": {},
     "output_type": "execute_result"
    }
   ],
   "source": [
    "num_rows = [10**n for n in range(1,8)]\n",
    "results = []\n",
    "\n",
    "for n in num_rows:\n",
    "    # perform experiment multiple times per setting\n",
    "    for it in range(7):\n",
    "        df = create_frame(n)\n",
    "        method = \"string\"\n",
    "        start_time = time.perf_counter()\n",
    "        df[\"year_str\"] = df.yearmon_str.str[:4]\n",
    "        df[\"month_str\"] = df.yearmon_str.str[4:]\n",
    "        results.append({\"row_number\": n, \"data_type\": method,\"run_time\":time.perf_counter () - start_time})\n",
    "        method = \"cat\"\n",
    "        start_time = time.perf_counter()\n",
    "        df[\"year_cat\"] = df.yearmon_cat.str[:4]\n",
    "        df[\"month_cat\"] = df.yearmon_cat.str[4:]\n",
    "        results.append({\"row_number\": n, \"data_type\": method,\"run_time\":time.perf_counter () - start_time})\n",
    "        \n",
    "        method = \"int64\"\n",
    "        start_time = time.perf_counter()\n",
    "        df[\"year_int64\"] = df.yearmon_int64 // 100 \n",
    "        df[\"month_int64\"] = df.yearmon_int64 - df.year_int64*100\n",
    "        results.append({\"row_number\": n, \"data_type\": method,\"run_time\":time.perf_counter () - start_time})\n",
    "\n",
    "        method = \"int32\"\n",
    "        start_time = time.perf_counter()\n",
    "        df[\"year_int32\"] = df.yearmon_int32 // 100 \n",
    "        df[\"month_int32\"] = df.yearmon_int32 - df.year_int32*100\n",
    "        results.append({\"row_number\": n, \"data_type\": method,\"run_time\":time.perf_counter () - start_time})\n",
    "        # If one needs to save memory even more then the following method might be useful\n",
    "        # method= \"int16_and_int8\"\n",
    "        # start_time = time.perf_counter()\n",
    "        # df[\"year_int16\"] = df.yearmon_int32 // 100\n",
    "        # df.year_int16 = df.year_int16.astype(np.int16)\n",
    "        # df[\"month_int8\"] = df.yearmon_int32 - df.year_int16 * 100\n",
    "        # df.month_int8 = df.month_int8.astype(np.int8)\n",
    "        \n",
    "        results.append({\"row_number\": n, \"data_type\": method,\"run_time\":time.perf_counter () - start_time})\n",
    "\n",
    "results = pd.DataFrame(results)\n",
    "\n",
    "results = results.groupby(by = [\"row_number\", \"data_type\"]).agg({\"run_time\":\"mean\"}).reset_index()\n",
    "#results.run_time = results.run_time* 10**3# go to milli seconds from seconds\n",
    "best_df = results.groupby(by=\"row_number\").agg({\"run_time\":\"min\"}).reset_index()\n",
    "results = pd.merge(results,\n",
    "                   best_df,\n",
    "                   how=\"left\",\n",
    "                   on = \"row_number\")\n",
    "results.rename({\"run_time_x\":\"run_time\", \"run_time_y\":\"best_run_time\"}, axis=1, inplace=True)\n",
    "results[\"times_best\"] = results.run_time / results.best_run_time\n",
    "results.head()"
   ]
  },
  {
   "cell_type": "code",
   "execution_count": 184,
   "id": "a572693c-3eeb-47cb-96a8-0b21b4ca424d",
   "metadata": {},
   "outputs": [
    {
     "data": {
      "image/png": "[encoded data removed]",
      "text/plain": [
       "<Figure size 640x480 with 1 Axes>"
      ]
     },
     "metadata": {},
     "output_type": "display_data"
    }
   ],
   "source": [
    "for data_type, group in results.groupby(by='data_type'):\n",
    "    plt.plot(group['row_number'], group['run_time'], label=data_type)\n",
    "plt.xlabel('Number of Rows')\n",
    "plt.ylabel('Run Time (seconds)')\n",
    "plt.title('Run Time per Data Type for extracting year and month for different methods of storing yearmon column')\n",
    "plt.legend()\n",
    "plt.show()"
   ]
  },
  {
   "cell_type": "code",
   "execution_count": 52,
   "id": "96fe86bf-5a32-460c-be17-e2b1a1cf89f3",
   "metadata": {},
   "outputs": [
    {
     "data": {
      "text/html": [
       "<div>\n",
       "<style scoped>\n",
       "    .dataframe tbody tr th:only-of-type {\n",
       "        vertical-align: middle;\n",
       "    }\n",
       "\n",
       "    .dataframe tbody tr th {\n",
       "        vertical-align: top;\n",
       "    }\n",
       "\n",
       "    .dataframe thead th {\n",
       "        text-align: right;\n",
       "    }\n",
       "</style>\n",
       "<table border=\"1\" class=\"dataframe\">\n",
       "  <thead>\n",
       "    <tr style=\"text-align: right;\">\n",
       "      <th></th>\n",
       "      <th>row_number</th>\n",
       "      <th>data_type</th>\n",
       "      <th>run_time</th>\n",
       "      <th>best_run_time</th>\n",
       "      <th>times_best</th>\n",
       "    </tr>\n",
       "  </thead>\n",
       "  <tbody>\n",
       "    <tr>\n",
       "      <th>0</th>\n",
       "      <td>10</td>\n",
       "      <td>cat</td>\n",
       "      <td>0.000565</td>\n",
       "      <td>0.000495</td>\n",
       "      <td>1.140987</td>\n",
       "    </tr>\n",
       "    <tr>\n",
       "      <th>1</th>\n",
       "      <td>10</td>\n",
       "      <td>int32</td>\n",
       "      <td>0.000602</td>\n",
       "      <td>0.000495</td>\n",
       "      <td>1.215445</td>\n",
       "    </tr>\n",
       "    <tr>\n",
       "      <th>2</th>\n",
       "      <td>10</td>\n",
       "      <td>int64</td>\n",
       "      <td>0.000624</td>\n",
       "      <td>0.000495</td>\n",
       "      <td>1.260461</td>\n",
       "    </tr>\n",
       "    <tr>\n",
       "      <th>3</th>\n",
       "      <td>10</td>\n",
       "      <td>string</td>\n",
       "      <td>0.000495</td>\n",
       "      <td>0.000495</td>\n",
       "      <td>1.000000</td>\n",
       "    </tr>\n",
       "    <tr>\n",
       "      <th>4</th>\n",
       "      <td>100</td>\n",
       "      <td>cat</td>\n",
       "      <td>0.000542</td>\n",
       "      <td>0.000503</td>\n",
       "      <td>1.076028</td>\n",
       "    </tr>\n",
       "    <tr>\n",
       "      <th>5</th>\n",
       "      <td>100</td>\n",
       "      <td>int32</td>\n",
       "      <td>0.000543</td>\n",
       "      <td>0.000503</td>\n",
       "      <td>1.079150</td>\n",
       "    </tr>\n",
       "    <tr>\n",
       "      <th>6</th>\n",
       "      <td>100</td>\n",
       "      <td>int64</td>\n",
       "      <td>0.000535</td>\n",
       "      <td>0.000503</td>\n",
       "      <td>1.063172</td>\n",
       "    </tr>\n",
       "    <tr>\n",
       "      <th>7</th>\n",
       "      <td>100</td>\n",
       "      <td>string</td>\n",
       "      <td>0.000503</td>\n",
       "      <td>0.000503</td>\n",
       "      <td>1.000000</td>\n",
       "    </tr>\n",
       "    <tr>\n",
       "      <th>8</th>\n",
       "      <td>1000</td>\n",
       "      <td>cat</td>\n",
       "      <td>0.000584</td>\n",
       "      <td>0.000531</td>\n",
       "      <td>1.101413</td>\n",
       "    </tr>\n",
       "    <tr>\n",
       "      <th>9</th>\n",
       "      <td>1000</td>\n",
       "      <td>int32</td>\n",
       "      <td>0.000557</td>\n",
       "      <td>0.000531</td>\n",
       "      <td>1.050222</td>\n",
       "    </tr>\n",
       "    <tr>\n",
       "      <th>10</th>\n",
       "      <td>1000</td>\n",
       "      <td>int64</td>\n",
       "      <td>0.000531</td>\n",
       "      <td>0.000531</td>\n",
       "      <td>1.000000</td>\n",
       "    </tr>\n",
       "    <tr>\n",
       "      <th>11</th>\n",
       "      <td>1000</td>\n",
       "      <td>string</td>\n",
       "      <td>0.000834</td>\n",
       "      <td>0.000531</td>\n",
       "      <td>1.572352</td>\n",
       "    </tr>\n",
       "    <tr>\n",
       "      <th>12</th>\n",
       "      <td>10000</td>\n",
       "      <td>cat</td>\n",
       "      <td>0.000692</td>\n",
       "      <td>0.000522</td>\n",
       "      <td>1.326879</td>\n",
       "    </tr>\n",
       "    <tr>\n",
       "      <th>13</th>\n",
       "      <td>10000</td>\n",
       "      <td>int32</td>\n",
       "      <td>0.000522</td>\n",
       "      <td>0.000522</td>\n",
       "      <td>1.000000</td>\n",
       "    </tr>\n",
       "    <tr>\n",
       "      <th>14</th>\n",
       "      <td>10000</td>\n",
       "      <td>int64</td>\n",
       "      <td>0.000543</td>\n",
       "      <td>0.000522</td>\n",
       "      <td>1.041834</td>\n",
       "    </tr>\n",
       "    <tr>\n",
       "      <th>15</th>\n",
       "      <td>10000</td>\n",
       "      <td>string</td>\n",
       "      <td>0.003775</td>\n",
       "      <td>0.000522</td>\n",
       "      <td>7.237515</td>\n",
       "    </tr>\n",
       "    <tr>\n",
       "      <th>16</th>\n",
       "      <td>100000</td>\n",
       "      <td>cat</td>\n",
       "      <td>0.002418</td>\n",
       "      <td>0.000763</td>\n",
       "      <td>3.170596</td>\n",
       "    </tr>\n",
       "    <tr>\n",
       "      <th>17</th>\n",
       "      <td>100000</td>\n",
       "      <td>int32</td>\n",
       "      <td>0.000763</td>\n",
       "      <td>0.000763</td>\n",
       "      <td>1.000000</td>\n",
       "    </tr>\n",
       "    <tr>\n",
       "      <th>18</th>\n",
       "      <td>100000</td>\n",
       "      <td>int64</td>\n",
       "      <td>0.001160</td>\n",
       "      <td>0.000763</td>\n",
       "      <td>1.521377</td>\n",
       "    </tr>\n",
       "    <tr>\n",
       "      <th>19</th>\n",
       "      <td>100000</td>\n",
       "      <td>string</td>\n",
       "      <td>0.035654</td>\n",
       "      <td>0.000763</td>\n",
       "      <td>46.749778</td>\n",
       "    </tr>\n",
       "    <tr>\n",
       "      <th>20</th>\n",
       "      <td>1000000</td>\n",
       "      <td>cat</td>\n",
       "      <td>0.022182</td>\n",
       "      <td>0.005242</td>\n",
       "      <td>4.231640</td>\n",
       "    </tr>\n",
       "    <tr>\n",
       "      <th>21</th>\n",
       "      <td>1000000</td>\n",
       "      <td>int32</td>\n",
       "      <td>0.005242</td>\n",
       "      <td>0.005242</td>\n",
       "      <td>1.000000</td>\n",
       "    </tr>\n",
       "    <tr>\n",
       "      <th>22</th>\n",
       "      <td>1000000</td>\n",
       "      <td>int64</td>\n",
       "      <td>0.009761</td>\n",
       "      <td>0.005242</td>\n",
       "      <td>1.862093</td>\n",
       "    </tr>\n",
       "    <tr>\n",
       "      <th>23</th>\n",
       "      <td>1000000</td>\n",
       "      <td>string</td>\n",
       "      <td>0.369055</td>\n",
       "      <td>0.005242</td>\n",
       "      <td>70.404084</td>\n",
       "    </tr>\n",
       "    <tr>\n",
       "      <th>24</th>\n",
       "      <td>10000000</td>\n",
       "      <td>cat</td>\n",
       "      <td>0.218139</td>\n",
       "      <td>0.046292</td>\n",
       "      <td>4.712210</td>\n",
       "    </tr>\n",
       "    <tr>\n",
       "      <th>25</th>\n",
       "      <td>10000000</td>\n",
       "      <td>int32</td>\n",
       "      <td>0.046292</td>\n",
       "      <td>0.046292</td>\n",
       "      <td>1.000000</td>\n",
       "    </tr>\n",
       "    <tr>\n",
       "      <th>26</th>\n",
       "      <td>10000000</td>\n",
       "      <td>int64</td>\n",
       "      <td>0.089434</td>\n",
       "      <td>0.046292</td>\n",
       "      <td>1.931945</td>\n",
       "    </tr>\n",
       "    <tr>\n",
       "      <th>27</th>\n",
       "      <td>10000000</td>\n",
       "      <td>string</td>\n",
       "      <td>3.679471</td>\n",
       "      <td>0.046292</td>\n",
       "      <td>79.483317</td>\n",
       "    </tr>\n",
       "  </tbody>\n",
       "</table>\n",
       "</div>"
      ],
      "text/plain": [
       "    row_number data_type  run_time  best_run_time  times_best\n",
       "0           10       cat  0.000565       0.000495    1.140987\n",
       "1           10     int32  0.000602       0.000495    1.215445\n",
       "2           10     int64  0.000624       0.000495    1.260461\n",
       "3           10    string  0.000495       0.000495    1.000000\n",
       "4          100       cat  0.000542       0.000503    1.076028\n",
       "5          100     int32  0.000543       0.000503    1.079150\n",
       "6          100     int64  0.000535       0.000503    1.063172\n",
       "7          100    string  0.000503       0.000503    1.000000\n",
       "8         1000       cat  0.000584       0.000531    1.101413\n",
       "9         1000     int32  0.000557       0.000531    1.050222\n",
       "10        1000     int64  0.000531       0.000531    1.000000\n",
       "11        1000    string  0.000834       0.000531    1.572352\n",
       "12       10000       cat  0.000692       0.000522    1.326879\n",
       "13       10000     int32  0.000522       0.000522    1.000000\n",
       "14       10000     int64  0.000543       0.000522    1.041834\n",
       "15       10000    string  0.003775       0.000522    7.237515\n",
       "16      100000       cat  0.002418       0.000763    3.170596\n",
       "17      100000     int32  0.000763       0.000763    1.000000\n",
       "18      100000     int64  0.001160       0.000763    1.521377\n",
       "19      100000    string  0.035654       0.000763   46.749778\n",
       "20     1000000       cat  0.022182       0.005242    4.231640\n",
       "21     1000000     int32  0.005242       0.005242    1.000000\n",
       "22     1000000     int64  0.009761       0.005242    1.862093\n",
       "23     1000000    string  0.369055       0.005242   70.404084\n",
       "24    10000000       cat  0.218139       0.046292    4.712210\n",
       "25    10000000     int32  0.046292       0.046292    1.000000\n",
       "26    10000000     int64  0.089434       0.046292    1.931945\n",
       "27    10000000    string  3.679471       0.046292   79.483317"
      ]
     },
     "execution_count": 52,
     "metadata": {},
     "output_type": "execute_result"
    }
   ],
   "source": [
    "results"
   ]
  },
  {
   "cell_type": "code",
   "execution_count": 61,
   "id": "02972154-b209-4ce0-b429-e9f5372d5a48",
   "metadata": {},
   "outputs": [
    {
     "data": {
      "text/html": [
       "<div>\n",
       "<style scoped>\n",
       "    .dataframe tbody tr th:only-of-type {\n",
       "        vertical-align: middle;\n",
       "    }\n",
       "\n",
       "    .dataframe tbody tr th {\n",
       "        vertical-align: top;\n",
       "    }\n",
       "\n",
       "    .dataframe thead th {\n",
       "        text-align: right;\n",
       "    }\n",
       "</style>\n",
       "<table border=\"1\" class=\"dataframe\">\n",
       "  <thead>\n",
       "    <tr style=\"text-align: right;\">\n",
       "      <th>data_type</th>\n",
       "      <th>cat</th>\n",
       "      <th>int32</th>\n",
       "      <th>int64</th>\n",
       "      <th>string</th>\n",
       "    </tr>\n",
       "    <tr>\n",
       "      <th>row_number</th>\n",
       "      <th></th>\n",
       "      <th></th>\n",
       "      <th></th>\n",
       "      <th></th>\n",
       "    </tr>\n",
       "  </thead>\n",
       "  <tbody>\n",
       "    <tr>\n",
       "      <th>10</th>\n",
       "      <td>1.140987</td>\n",
       "      <td>1.215445</td>\n",
       "      <td>1.260461</td>\n",
       "      <td>1.000000</td>\n",
       "    </tr>\n",
       "    <tr>\n",
       "      <th>100</th>\n",
       "      <td>1.076028</td>\n",
       "      <td>1.079150</td>\n",
       "      <td>1.063172</td>\n",
       "      <td>1.000000</td>\n",
       "    </tr>\n",
       "    <tr>\n",
       "      <th>1000</th>\n",
       "      <td>1.101413</td>\n",
       "      <td>1.050222</td>\n",
       "      <td>1.000000</td>\n",
       "      <td>1.572352</td>\n",
       "    </tr>\n",
       "    <tr>\n",
       "      <th>10000</th>\n",
       "      <td>1.326879</td>\n",
       "      <td>1.000000</td>\n",
       "      <td>1.041834</td>\n",
       "      <td>7.237515</td>\n",
       "    </tr>\n",
       "    <tr>\n",
       "      <th>100000</th>\n",
       "      <td>3.170596</td>\n",
       "      <td>1.000000</td>\n",
       "      <td>1.521377</td>\n",
       "      <td>46.749778</td>\n",
       "    </tr>\n",
       "    <tr>\n",
       "      <th>1000000</th>\n",
       "      <td>4.231640</td>\n",
       "      <td>1.000000</td>\n",
       "      <td>1.862093</td>\n",
       "      <td>70.404084</td>\n",
       "    </tr>\n",
       "    <tr>\n",
       "      <th>10000000</th>\n",
       "      <td>4.712210</td>\n",
       "      <td>1.000000</td>\n",
       "      <td>1.931945</td>\n",
       "      <td>79.483317</td>\n",
       "    </tr>\n",
       "  </tbody>\n",
       "</table>\n",
       "</div>"
      ],
      "text/plain": [
       "data_type        cat     int32     int64     string\n",
       "row_number                                         \n",
       "10          1.140987  1.215445  1.260461   1.000000\n",
       "100         1.076028  1.079150  1.063172   1.000000\n",
       "1000        1.101413  1.050222  1.000000   1.572352\n",
       "10000       1.326879  1.000000  1.041834   7.237515\n",
       "100000      3.170596  1.000000  1.521377  46.749778\n",
       "1000000     4.231640  1.000000  1.862093  70.404084\n",
       "10000000    4.712210  1.000000  1.931945  79.483317"
      ]
     },
     "execution_count": 61,
     "metadata": {},
     "output_type": "execute_result"
    }
   ],
   "source": [
    "\n",
    "results.pivot(index=\"row_number\",columns=\"data_type\", values=\"times_best\")"
   ]
  },
  {
   "cell_type": "code",
   "execution_count": 177,
   "id": "5fe36762-d2e7-4917-9c96-84c7505d98b1",
   "metadata": {},
   "outputs": [
    {
     "data": {
      "image/png": "[encoded data removed]",
      "text/plain": [
       "<Figure size 1000x600 with 1 Axes>"
      ]
     },
     "metadata": {},
     "output_type": "display_data"
    }
   ],
   "source": [
    "grouped_data = results.groupby(['row_number', 'data_type'])['times_best'].sum().reset_index()\n",
    "\n",
    "# Pivot the grouped data to create a DataFrame suitable for stacked bar plot\n",
    "pivot_df = grouped_data.pivot(index='row_number', columns='data_type', values='times_best').fillna(0)\n",
    "\n",
    "# Create the stacked bar plot\n",
    "pivot_df.plot(kind='bar', stacked=False, figsize=(10, 6))\n",
    "\n",
    "# Add labels, title, and legend\n",
    "plt.xlabel('Row Number')\n",
    "plt.ylabel('Run Time as multiple of best run')\n",
    "plt.title('Run Time per Data Type (Stacked Bars)')\n",
    "plt.legend()\n",
    "\n",
    "# Show the plot\n",
    "plt.show()"
   ]
  },
  {
   "cell_type": "code",
   "execution_count": 28,
   "id": "f3e936a5-06f5-4c30-8fdf-be44448971ff",
   "metadata": {},
   "outputs": [
    {
     "name": "stdout",
     "output_type": "stream",
     "text": [
      "memory_usage in MB at 1,000,000 rows in the yearmon column\n"
     ]
    },
    {
     "data": {
      "text/plain": [
       "yearmon_str      60.081482\n",
       "yearmon_int64     7.629395\n",
       "yearmon_int32     3.814697\n",
       "yearmon_cat       0.957581\n",
       "value             7.629395\n",
       "dtype: float64"
      ]
     },
     "execution_count": 28,
     "metadata": {},
     "output_type": "execute_result"
    }
   ],
   "source": [
    "print(f\"memory_usage in MB at {n:,} rows in the yearmon column\")\n",
    "df.memory_usage(deep=True, index=False)/1024**2"
   ]
  },
  {
   "cell_type": "code",
   "execution_count": 187,
   "id": "c4ed853e-75fc-4e25-85c8-b25027433b6f",
   "metadata": {},
   "outputs": [],
   "source": []
  },
  {
   "cell_type": "code",
   "execution_count": 25,
   "id": "c70a2333-bcfe-4fcd-98e7-edc041afec09",
   "metadata": {},
   "outputs": [
    {
     "name": "stdout",
     "output_type": "stream",
     "text": [
      "46.1 ms ± 214 µs per loop (mean ± std. dev. of 7 runs, 10 loops each)\n",
      "17.9 ms ± 214 µs per loop (mean ± std. dev. of 7 runs, 100 loops each)\n",
      "14 ms ± 57.8 µs per loop (mean ± std. dev. of 7 runs, 100 loops each)\n",
      "13.1 ms ± 42.8 µs per loop (mean ± std. dev. of 7 runs, 100 loops each)\n"
     ]
    }
   ],
   "source": [
    "\n",
    "%timeit df.groupby(by=\"yearmon_str\").agg({\"value\":\"sum\"})\n",
    "%timeit df.groupby(by=\"yearmon_cat\", observed=True).agg({\"value\":\"sum\"})\n",
    "%timeit df.groupby(by=\"yearmon_int64\").agg({\"value\":\"sum\"})\n",
    "%timeit df.groupby(by=\"yearmon_int32\").agg({\"value\":\"sum\"})"
   ]
  },
  {
   "cell_type": "code",
   "execution_count": 44,
   "id": "66cf8ab0-90f6-4ce6-8f26-789eb891055c",
   "metadata": {},
   "outputs": [
    {
     "name": "stdout",
     "output_type": "stream",
     "text": [
      "<class 'pandas.core.frame.DataFrame'>\n",
      "RangeIndex: 10000000 entries, 0 to 9999999\n",
      "Data columns (total 5 columns):\n",
      " #   Column         Dtype   \n",
      "---  ------         -----   \n",
      " 0   yearmon_str    object  \n",
      " 1   yearmon_int64  int64   \n",
      " 2   yearmon_int32  int32   \n",
      " 3   yearmon_cat    category\n",
      " 4   value          float64 \n",
      "dtypes: category(1), float64(1), int32(1), int64(1), object(1)\n",
      "memory usage: 276.6+ MB\n"
     ]
    }
   ],
   "source": [
    "n = 10000000\n",
    "df = create_frame(n)\n",
    "df[\"value\"] = np.ones(n)\n",
    "df.info()"
   ]
  },
  {
   "cell_type": "code",
   "execution_count": 29,
   "id": "ee71b910-3f78-4a18-b9aa-2e31bd018509",
   "metadata": {},
   "outputs": [
    {
     "name": "stdout",
     "output_type": "stream",
     "text": [
      "556 ms ± 8.26 ms per loop (mean ± std. dev. of 7 runs, 1 loop each)\n"
     ]
    }
   ],
   "source": [
    "%%timeit\n",
    "pd.merge(df.loc[:,[\"yearmon_str\", \"value\"]], \n",
    "         df.loc[0:500,[\"yearmon_str\", \"value\"]], \n",
    "         on = \"yearmon_str\", \n",
    "         how =\"left\")\n"
   ]
  },
  {
   "cell_type": "code",
   "execution_count": 30,
   "id": "8298a0d6-15c7-4d68-9680-5b7052ff7cc1",
   "metadata": {},
   "outputs": [
    {
     "name": "stdout",
     "output_type": "stream",
     "text": [
      "372 ms ± 2.69 ms per loop (mean ± std. dev. of 7 runs, 1 loop each)\n"
     ]
    }
   ],
   "source": [
    "%%timeit\n",
    "pd.merge(df.loc[:,[\"yearmon_cat\", \"value\"]], \n",
    "         df.loc[0:500,[\"yearmon_cat\", \"value\"]], \n",
    "         on = \"yearmon_cat\", \n",
    "         how =\"left\")"
   ]
  },
  {
   "cell_type": "code",
   "execution_count": 31,
   "id": "ce553fdf-5cf4-4fdd-8bed-14641d2b3429",
   "metadata": {},
   "outputs": [
    {
     "name": "stdout",
     "output_type": "stream",
     "text": [
      "419 ms ± 2.77 ms per loop (mean ± std. dev. of 7 runs, 1 loop each)\n"
     ]
    }
   ],
   "source": [
    "%%timeit\n",
    "pd.merge(df.loc[:,[\"yearmon_int64\", \"value\"]], \n",
    "         df.loc[0:500,[\"yearmon_int64\", \"value\"]], \n",
    "         on = \"yearmon_int64\", \n",
    "         how =\"left\")"
   ]
  },
  {
   "cell_type": "code",
   "execution_count": 32,
   "id": "984a8eab-2686-4b85-ac54-f69966a004c2",
   "metadata": {},
   "outputs": [
    {
     "name": "stdout",
     "output_type": "stream",
     "text": [
      "406 ms ± 4.72 ms per loop (mean ± std. dev. of 7 runs, 1 loop each)\n"
     ]
    }
   ],
   "source": [
    "%%timeit\n",
    "pd.merge(df.loc[:,[\"yearmon_int32\", \"value\"]], \n",
    "         df.loc[0:500,[\"yearmon_int32\", \"value\"]], \n",
    "         on = \"yearmon_int32\", \n",
    "         how =\"left\")"
   ]
  },
  {
   "cell_type": "code",
   "execution_count": 45,
   "id": "6e11170c-25a9-42c1-8173-025365e2c671",
   "metadata": {},
   "outputs": [
    {
     "name": "stdout",
     "output_type": "stream",
     "text": [
      "4.49 s ± 7.04 ms per loop (mean ± std. dev. of 7 runs, 1 loop each)\n"
     ]
    }
   ],
   "source": [
    "%%timeit\n",
    "pd.merge(df.loc[:,[\"yearmon_cat\", \"value\"]].set_index(\"yearmon_cat\", drop=True), \n",
    "         df.loc[0:500,[\"yearmon_cat\", \"value\"]].set_index(\"yearmon_cat\", drop=True), \n",
    "         left_index=True, right_index=True, \n",
    "         how =\"left\").reset_index()\n"
   ]
  },
  {
   "cell_type": "code",
   "execution_count": 46,
   "id": "601c43a9-5b93-43fe-b3bb-8c42360db019",
   "metadata": {},
   "outputs": [
    {
     "name": "stdout",
     "output_type": "stream",
     "text": [
      "4.85 s ± 35.9 ms per loop (mean ± std. dev. of 7 runs, 1 loop each)\n"
     ]
    }
   ],
   "source": [
    "%%timeit\n",
    "pd.merge(df.loc[:,[\"yearmon_int32\", \"value\"]].set_index(\"yearmon_int32\", drop=True), \n",
    "         df.loc[0:500,[\"yearmon_int32\", \"value\"]].set_index(\"yearmon_int32\", drop=True), \n",
    "         left_index=True, right_index=True, \n",
    "         how =\"left\").reset_index()"
   ]
  },
  {
   "cell_type": "code",
   "execution_count": null,
   "id": "a6f5609d-877a-4d27-854a-5cf9db98b1c3",
   "metadata": {},
   "outputs": [],
   "source": []
  }
 ],
 "metadata": {
  "kernelspec": {
   "display_name": "Python 3 (ipykernel)",
   "language": "python",
   "name": "python3"
  },
  "language_info": {
   "codemirror_mode": {
    "name": "ipython",
    "version": 3
   },
   "file_extension": ".py",
   "mimetype": "text/x-python",
   "name": "python",
   "nbconvert_exporter": "python",
   "pygments_lexer": "ipython3",
   "version": "3.11.5"
  }
 },
 "nbformat": 4,
 "nbformat_minor": 5
}
